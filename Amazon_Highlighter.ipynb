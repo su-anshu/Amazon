{
  "nbformat": 4,
  "nbformat_minor": 0,
  "metadata": {
    "colab": {
      "provenance": [],
      "authorship_tag": "ABX9TyOmtcDXfGexhAfdFnMH54Ut",
      "include_colab_link": true
    },
    "kernelspec": {
      "name": "python3",
      "display_name": "Python 3"
    },
    "language_info": {
      "name": "python"
    }
  },
  "cells": [
    {
      "cell_type": "markdown",
      "metadata": {
        "id": "view-in-github",
        "colab_type": "text"
      },
      "source": [
        "<a href=\"https://colab.research.google.com/github/su-anshu/Amazon/blob/main/Amazon_Highlighter.ipynb\" target=\"_parent\"><img src=\"https://colab.research.google.com/assets/colab-badge.svg\" alt=\"Open In Colab\"/></a>"
      ]
    },
    {
      "cell_type": "code",
      "execution_count": 7,
      "metadata": {
        "colab": {
          "base_uri": "https://localhost:8080/"
        },
        "id": "Cj3Tdk_zM3Bv",
        "outputId": "e6ec3641-ee4d-4610-d18f-38561bf78741"
      },
      "outputs": [
        {
          "output_type": "stream",
          "name": "stdout",
          "text": [
            "Requirement already satisfied: flask in /usr/local/lib/python3.11/dist-packages (3.1.0)\n",
            "Requirement already satisfied: pymupdf in /usr/local/lib/python3.11/dist-packages (1.25.4)\n",
            "Requirement already satisfied: Werkzeug>=3.1 in /usr/local/lib/python3.11/dist-packages (from flask) (3.1.3)\n",
            "Requirement already satisfied: Jinja2>=3.1.2 in /usr/local/lib/python3.11/dist-packages (from flask) (3.1.6)\n",
            "Requirement already satisfied: itsdangerous>=2.2 in /usr/local/lib/python3.11/dist-packages (from flask) (2.2.0)\n",
            "Requirement already satisfied: click>=8.1.3 in /usr/local/lib/python3.11/dist-packages (from flask) (8.1.8)\n",
            "Requirement already satisfied: blinker>=1.9 in /usr/local/lib/python3.11/dist-packages (from flask) (1.9.0)\n",
            "Requirement already satisfied: MarkupSafe>=2.0 in /usr/local/lib/python3.11/dist-packages (from Jinja2>=3.1.2->flask) (3.0.2)\n"
          ]
        }
      ],
      "source": [
        "pip install flask pymupdf"
      ]
    },
    {
      "cell_type": "code",
      "source": [
        "!pip install flask pyngrok pymupdf"
      ],
      "metadata": {
        "colab": {
          "base_uri": "https://localhost:8080/"
        },
        "id": "dSKt429IOaS6",
        "outputId": "79f93ad1-52e2-4ff5-99be-f5462ce31e2a"
      },
      "execution_count": 8,
      "outputs": [
        {
          "output_type": "stream",
          "name": "stdout",
          "text": [
            "Requirement already satisfied: flask in /usr/local/lib/python3.11/dist-packages (3.1.0)\n",
            "Requirement already satisfied: pyngrok in /usr/local/lib/python3.11/dist-packages (7.2.3)\n",
            "Requirement already satisfied: pymupdf in /usr/local/lib/python3.11/dist-packages (1.25.4)\n",
            "Requirement already satisfied: Werkzeug>=3.1 in /usr/local/lib/python3.11/dist-packages (from flask) (3.1.3)\n",
            "Requirement already satisfied: Jinja2>=3.1.2 in /usr/local/lib/python3.11/dist-packages (from flask) (3.1.6)\n",
            "Requirement already satisfied: itsdangerous>=2.2 in /usr/local/lib/python3.11/dist-packages (from flask) (2.2.0)\n",
            "Requirement already satisfied: click>=8.1.3 in /usr/local/lib/python3.11/dist-packages (from flask) (8.1.8)\n",
            "Requirement already satisfied: blinker>=1.9 in /usr/local/lib/python3.11/dist-packages (from flask) (1.9.0)\n",
            "Requirement already satisfied: PyYAML>=5.1 in /usr/local/lib/python3.11/dist-packages (from pyngrok) (6.0.2)\n",
            "Requirement already satisfied: MarkupSafe>=2.0 in /usr/local/lib/python3.11/dist-packages (from Jinja2>=3.1.2->flask) (3.0.2)\n"
          ]
        }
      ]
    },
    {
      "cell_type": "code",
      "source": [
        "!ngrok authtoken 2FWfyS2dYI0iGe2Ac7DjveNwZID_3iok8SoASeqtABzrNe7Wu"
      ],
      "metadata": {
        "colab": {
          "base_uri": "https://localhost:8080/"
        },
        "id": "xYs7f2LjSWm-",
        "outputId": "0655f793-3922-420e-8d5e-d0df69a2144f"
      },
      "execution_count": 9,
      "outputs": [
        {
          "output_type": "stream",
          "name": "stdout",
          "text": [
            "Authtoken saved to configuration file: /root/.config/ngrok/ngrok.yml\n"
          ]
        }
      ]
    },
    {
      "cell_type": "code",
      "source": [
        "import fitz  # PyMuPDF\n",
        "from flask import Flask, request, send_file, render_template\n",
        "from pyngrok import ngrok\n",
        "import os\n",
        "import threading\n",
        "\n",
        "# Setup Flask\n",
        "app = Flask(__name__, template_folder=\"/content/templates\")\n",
        "UPLOAD_FOLDER = \"/content/uploads\"\n",
        "os.makedirs(UPLOAD_FOLDER, exist_ok=True)\n",
        "\n",
        "# PDF Processing Function\n",
        "def highlight_large_qty(pdf_path, output_path):\n",
        "    doc = fitz.open(pdf_path)\n",
        "\n",
        "    for page in doc:\n",
        "        text_blocks = page.get_text(\"blocks\")\n",
        "        qty_found = False\n",
        "\n",
        "        for block in text_blocks:\n",
        "            x0, y0, x1, y1, text, *_ = block\n",
        "\n",
        "            if \"Qty\" in text:\n",
        "                qty_found = True\n",
        "                continue\n",
        "\n",
        "            if qty_found:\n",
        "                qty_found = False\n",
        "                values = text.split()\n",
        "\n",
        "                for val in values:\n",
        "                    if val.isdigit() and int(val) > 1:\n",
        "                        highlight_box = fitz.Rect(x0, y0, x1, y1)\n",
        "                        page.draw_rect(highlight_box, color=(1, 0, 0), fill_opacity=0.4)\n",
        "\n",
        "    doc.save(output_path)\n",
        "\n",
        "# Serve the HTML Page\n",
        "@app.route(\"/\", methods=[\"GET\"])\n",
        "def index():\n",
        "    return render_template(\"index.html\")  # Loads the frontend\n",
        "\n",
        "# Handle File Upload\n",
        "@app.route(\"/upload\", methods=[\"POST\"])\n",
        "def upload_file():\n",
        "    if \"file\" not in request.files:\n",
        "        return \"No file uploaded\", 400\n",
        "\n",
        "    file = request.files[\"file\"]\n",
        "    if file.filename == \"\":\n",
        "        return \"No selected file\", 400\n",
        "\n",
        "    input_pdf = os.path.join(UPLOAD_FOLDER, file.filename)\n",
        "    output_pdf = os.path.join(UPLOAD_FOLDER, \"highlighted_\" + file.filename)\n",
        "\n",
        "    file.save(input_pdf)\n",
        "    highlight_large_qty(input_pdf, output_pdf)\n",
        "\n",
        "    return send_file(output_pdf, as_attachment=True)\n",
        "\n",
        "# Start Flask in a Background Thread\n",
        "def run_flask():\n",
        "    app.run(port=5000, debug=True, use_reloader=False)\n",
        "\n",
        "threading.Thread(target=run_flask, daemon=True).start()\n",
        "\n",
        "# Expose Flask Server via ngrok\n",
        "public_url = ngrok.connect(5000).public_url\n",
        "print(f\"🚀 Open this link: {public_url}\")\n"
      ],
      "metadata": {
        "colab": {
          "base_uri": "https://localhost:8080/"
        },
        "id": "O602bTTtlOB7",
        "outputId": "9700ad84-9d7c-4591-fd2c-a08db53badaf"
      },
      "execution_count": 10,
      "outputs": [
        {
          "output_type": "stream",
          "name": "stdout",
          "text": [
            " * Serving Flask app '__main__'\n",
            " * Debug mode: on\n"
          ]
        },
        {
          "output_type": "stream",
          "name": "stderr",
          "text": [
            "Address already in use\n",
            "Port 5000 is in use by another program. Either identify and stop that program, or start the server with a different port.\n"
          ]
        },
        {
          "output_type": "stream",
          "name": "stdout",
          "text": [
            "🚀 Open this link: https://9737-35-230-93-165.ngrok-free.app\n"
          ]
        }
      ]
    },
    {
      "cell_type": "code",
      "source": [
        "!pkill -9 ngrok"
      ],
      "metadata": {
        "id": "sG8U0ey9puWS"
      },
      "execution_count": 6,
      "outputs": []
    },
    {
      "cell_type": "markdown",
      "source": [],
      "metadata": {
        "id": "329wZJSdmDEz"
      }
    }
  ]
}